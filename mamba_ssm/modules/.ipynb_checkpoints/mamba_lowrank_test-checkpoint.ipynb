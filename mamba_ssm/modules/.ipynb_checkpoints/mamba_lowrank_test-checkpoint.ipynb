{
 "cells": [
  {
   "cell_type": "code",
   "execution_count": 1,
   "metadata": {},
   "outputs": [],
   "source": [
    "from mamba_lowrank import Mamba"
   ]
  },
  {
   "cell_type": "code",
   "execution_count": 2,
   "metadata": {},
   "outputs": [],
   "source": [
    "from torch import nn\n",
    "import torch\n",
    "from torch.linalg import svd"
   ]
  },
  {
   "cell_type": "code",
   "execution_count": 3,
   "metadata": {},
   "outputs": [],
   "source": [
    "blk = Mamba(2560).cuda()"
   ]
  },
  {
   "cell_type": "code",
   "execution_count": 10,
   "metadata": {},
   "outputs": [
    {
     "name": "stdout",
     "output_type": "stream",
     "text": [
      "Sequential(\n",
      "  (0): Linear(in_features=2560, out_features=2560, bias=False)\n",
      "  (1): Linear(in_features=2560, out_features=10240, bias=False)\n",
      ")\n",
      "Sequential(\n",
      "  (0): Linear(in_features=5120, out_features=192, bias=False)\n",
      "  (1): Linear(in_features=192, out_features=192, bias=False)\n",
      ")\n",
      "Sequential(\n",
      "  (0): Linear(in_features=160, out_features=160, bias=False)\n",
      "  (1): Linear(in_features=160, out_features=5120, bias=True)\n",
      ")\n",
      "Sequential(\n",
      "  (0): Linear(in_features=5120, out_features=2560, bias=False)\n",
      "  (1): Linear(in_features=2560, out_features=2560, bias=False)\n",
      ")\n"
     ]
    }
   ],
   "source": [
    "blk.lowrank_decomp(0)"
   ]
  },
  {
   "cell_type": "code",
   "execution_count": 5,
   "metadata": {},
   "outputs": [],
   "source": [
    "hidden_state = torch.randn(60,80, 2560).cuda()"
   ]
  },
  {
   "cell_type": "code",
   "execution_count": 6,
   "metadata": {},
   "outputs": [
    {
     "data": {
      "text/plain": [
       "torch.Size([1280, 2560])"
      ]
     },
     "execution_count": 6,
     "metadata": {},
     "output_type": "execute_result"
    }
   ],
   "source": [
    "blk.in_proj_lowrank[0].weight.shape"
   ]
  },
  {
   "cell_type": "code",
   "execution_count": 7,
   "metadata": {},
   "outputs": [
    {
     "name": "stdout",
     "output_type": "stream",
     "text": [
      "torch.Size([1280, 2560]) torch.Size([10240, 1280])\n"
     ]
    }
   ],
   "source": [
    "in_proj_A, in_proj_B = blk.in_proj_lowrank[0], blk.in_proj_lowrank[1]\n",
    "print(in_proj_A.weight.shape, in_proj_B.weight.shape)"
   ]
  },
  {
   "cell_type": "code",
   "execution_count": 8,
   "metadata": {},
   "outputs": [
    {
     "data": {
      "text/plain": [
       "tensor([[[-1.0630e-03, -5.5834e-03, -2.0714e-02,  ..., -1.0762e-02,\n",
       "          -3.8326e-02,  6.1399e-03],\n",
       "         [ 3.8519e-02, -1.0525e-02,  6.1685e-03,  ...,  6.8100e-03,\n",
       "           3.8210e-02,  2.0663e-02],\n",
       "         [-1.9760e-02, -6.5174e-02,  2.2132e-02,  ..., -8.0848e-03,\n",
       "           1.4704e-02, -1.5815e-02],\n",
       "         ...,\n",
       "         [-3.3079e-02,  5.1374e-02, -5.3796e-03,  ..., -4.1944e-02,\n",
       "          -4.4413e-02,  1.0081e-02],\n",
       "         [-3.9868e-02, -2.5390e-02,  2.5546e-02,  ...,  9.8813e-03,\n",
       "           2.5686e-02, -2.0753e-02],\n",
       "         [-1.9620e-02, -2.9996e-02,  6.1484e-04,  ...,  6.4944e-02,\n",
       "           1.7866e-02, -5.2775e-02]],\n",
       "\n",
       "        [[-1.8078e-02,  2.2395e-02,  2.2916e-02,  ..., -9.4015e-03,\n",
       "          -1.4578e-02, -3.8279e-02],\n",
       "         [-3.2380e-02, -9.7540e-03, -3.1219e-02,  ..., -4.5243e-02,\n",
       "          -4.0972e-02, -1.1541e-02],\n",
       "         [-2.8985e-03,  3.6925e-02,  5.1008e-03,  ...,  9.1109e-03,\n",
       "          -6.5001e-04,  4.8031e-03],\n",
       "         ...,\n",
       "         [-9.0419e-03,  3.0706e-02,  1.6199e-02,  ..., -1.0908e-02,\n",
       "          -2.9054e-02, -4.3008e-03],\n",
       "         [-6.7574e-03, -4.0183e-02, -8.8880e-03,  ...,  2.3874e-02,\n",
       "           8.5875e-03, -1.5708e-02],\n",
       "         [-9.5638e-03,  3.8424e-02, -5.0267e-02,  ...,  2.8607e-02,\n",
       "          -1.0924e-02,  3.5834e-02]],\n",
       "\n",
       "        [[-2.5236e-02,  2.8136e-03, -1.9360e-02,  ...,  2.3398e-02,\n",
       "           6.8112e-03,  3.8802e-02],\n",
       "         [ 1.4570e-02, -2.8685e-02,  2.3474e-02,  ..., -4.5855e-05,\n",
       "           6.6877e-03, -2.6613e-02],\n",
       "         [ 2.8166e-02, -1.3766e-02,  1.5355e-03,  ...,  7.2238e-03,\n",
       "          -1.7282e-02, -2.1079e-03],\n",
       "         ...,\n",
       "         [ 3.1120e-02, -2.7570e-02,  1.9384e-02,  ...,  3.5188e-02,\n",
       "          -3.6625e-02,  6.0177e-02],\n",
       "         [-3.3757e-02, -6.5103e-02, -1.9069e-02,  ..., -1.2096e-02,\n",
       "          -1.5654e-02, -2.1482e-02],\n",
       "         [ 3.4771e-02, -4.5459e-02,  4.7217e-03,  ...,  1.3127e-02,\n",
       "          -9.1800e-03, -4.3635e-02]],\n",
       "\n",
       "        ...,\n",
       "\n",
       "        [[ 4.9046e-03,  1.1555e-02,  8.9022e-03,  ...,  1.6509e-02,\n",
       "           2.6581e-02, -8.7625e-03],\n",
       "         [ 3.5435e-02, -5.1031e-02, -1.4015e-02,  ..., -2.6180e-02,\n",
       "          -4.1550e-02,  1.3108e-02],\n",
       "         [-2.1846e-02,  4.0703e-02,  1.1143e-02,  ...,  4.0644e-02,\n",
       "           5.8032e-02,  2.1061e-02],\n",
       "         ...,\n",
       "         [-2.2308e-02,  1.0823e-02, -1.9987e-02,  ...,  4.8047e-02,\n",
       "           2.1006e-02,  4.5423e-03],\n",
       "         [-2.6527e-02, -1.3203e-02, -4.7770e-03,  ..., -1.2046e-02,\n",
       "           3.2958e-02, -4.5879e-02],\n",
       "         [-4.6809e-02,  4.3643e-03, -4.6195e-03,  ..., -1.2867e-02,\n",
       "          -2.5456e-03, -1.2438e-02]],\n",
       "\n",
       "        [[ 6.1635e-04,  5.2986e-02,  7.5659e-03,  ...,  1.5437e-02,\n",
       "           8.8664e-03,  8.0781e-03],\n",
       "         [-7.2587e-03, -1.8296e-02, -1.3831e-02,  ..., -2.0734e-02,\n",
       "           1.4705e-02,  7.2590e-03],\n",
       "         [ 5.6525e-03, -9.2241e-03, -1.5757e-02,  ..., -3.4401e-02,\n",
       "          -2.0840e-02,  3.2069e-02],\n",
       "         ...,\n",
       "         [-1.4837e-02, -2.3091e-02,  3.1892e-03,  ..., -1.0259e-02,\n",
       "          -6.2098e-02,  6.6936e-02],\n",
       "         [ 5.0473e-02, -4.4808e-02,  3.9632e-02,  ..., -3.8053e-03,\n",
       "          -1.5926e-02,  2.9447e-03],\n",
       "         [ 3.8299e-02,  6.4693e-02, -1.7863e-02,  ..., -1.0111e-02,\n",
       "          -6.2606e-02, -2.3507e-02]],\n",
       "\n",
       "        [[ 1.1870e-02,  1.9728e-04,  2.4384e-02,  ..., -1.5051e-03,\n",
       "          -1.5808e-02,  2.1756e-02],\n",
       "         [-1.2236e-03, -7.1627e-03,  1.8317e-02,  ...,  2.7581e-03,\n",
       "          -5.1018e-02,  6.3404e-03],\n",
       "         [-1.8355e-02,  2.6247e-03,  9.7779e-03,  ..., -4.1852e-02,\n",
       "          -3.0431e-02, -2.8105e-02],\n",
       "         ...,\n",
       "         [ 1.4436e-02, -4.9007e-03, -1.7822e-02,  ..., -6.9139e-02,\n",
       "          -3.0317e-02,  2.3857e-02],\n",
       "         [ 1.0780e-02, -2.1336e-02,  5.2630e-04,  ..., -1.0196e-02,\n",
       "          -9.4455e-02, -1.2895e-02],\n",
       "         [ 5.8074e-02, -1.2028e-02, -3.0285e-02,  ..., -2.1860e-02,\n",
       "          -3.2337e-02, -1.3352e-02]]], device='cuda:0',\n",
       "       grad_fn=<MambaInnerFnBackward>)"
      ]
     },
     "execution_count": 8,
     "metadata": {},
     "output_type": "execute_result"
    }
   ],
   "source": [
    "blk(hidden_state)"
   ]
  },
  {
   "cell_type": "code",
   "execution_count": null,
   "metadata": {},
   "outputs": [],
   "source": []
  },
  {
   "cell_type": "code",
   "execution_count": 6,
   "metadata": {},
   "outputs": [
    {
     "data": {
      "text/plain": [
       "torch.Size([1280, 10240])"
      ]
     },
     "execution_count": 6,
     "metadata": {},
     "output_type": "execute_result"
    }
   ],
   "source": [
    "l = nn.Linear(10240, 1280, bias=False)\n",
    "l1 = nn.Linear(1280, 2560, bias=False)\n",
    "seq = nn.Sequential(l, l1)\n",
    "seq[0].weight.shape"
   ]
  },
  {
   "cell_type": "code",
   "execution_count": 20,
   "metadata": {},
   "outputs": [
    {
     "data": {
      "text/plain": [
       "torch.Size([1280, 10240])"
      ]
     },
     "execution_count": 20,
     "metadata": {},
     "output_type": "execute_result"
    }
   ],
   "source": [
    "l.weight.shape"
   ]
  },
  {
   "cell_type": "code",
   "execution_count": 7,
   "metadata": {},
   "outputs": [
    {
     "data": {
      "text/plain": [
       "NoneType"
      ]
     },
     "execution_count": 7,
     "metadata": {},
     "output_type": "execute_result"
    }
   ],
   "source": [
    "type(l.bias)"
   ]
  },
  {
   "cell_type": "code",
   "execution_count": 55,
   "metadata": {},
   "outputs": [
    {
     "data": {
      "text/plain": [
       "tensor([[ 0.0158, -1.5534,  1.5303,  0.1905,  0.8983,  0.0499,  1.4670, -0.0763],\n",
       "        [-0.1123, -0.3134, -0.1625,  1.6424, -1.4473, -0.4343, -0.3282, -1.6918],\n",
       "        [ 0.3806, -1.1943, -1.9619, -0.0091,  1.3203, -0.2420,  0.1222, -1.2272],\n",
       "        [-2.1387, -1.6756,  0.9787,  0.2201,  2.0406, -2.2536,  0.0271, -0.6855],\n",
       "        [-0.9194,  0.2099,  0.0955,  1.4596, -0.5195, -0.5343, -0.0501, -0.1164],\n",
       "        [-0.5329,  1.5535, -0.6257, -0.2028,  1.1243, -0.1180,  0.8217, -0.2893]])"
      ]
     },
     "execution_count": 55,
     "metadata": {},
     "output_type": "execute_result"
    }
   ],
   "source": [
    "x = torch.randn(6,8)\n",
    "# x = torch.Tensor([[1, 0], [1, 0]])\n",
    "x"
   ]
  },
  {
   "cell_type": "code",
   "execution_count": 61,
   "metadata": {},
   "outputs": [
    {
     "name": "stdout",
     "output_type": "stream",
     "text": [
      "torch.Size([6, 6]) torch.Size([6]) torch.Size([6, 8])\n"
     ]
    }
   ],
   "source": [
    "U, S, Vh = svd(x, full_matrices=False)\n",
    "print(U.shape, S.shape, Vh.shape)"
   ]
  },
  {
   "cell_type": "code",
   "execution_count": 62,
   "metadata": {},
   "outputs": [
    {
     "data": {
      "text/plain": [
       "tensor([[ 0.3772, -0.1971, -0.3839,  0.5362,  0.6157,  0.0702],\n",
       "        [ 0.0130,  0.8339,  0.0938,  0.1324,  0.2549, -0.4617],\n",
       "        [ 0.2335, -0.0198,  0.8538,  0.3815,  0.0205,  0.2650],\n",
       "        [ 0.8916,  0.0392, -0.0583, -0.2818, -0.3057, -0.1654],\n",
       "        [ 0.0877,  0.4444, -0.1233, -0.3199,  0.1993,  0.7985],\n",
       "        [ 0.0227, -0.2575,  0.3103, -0.6063,  0.6500, -0.2164]])"
      ]
     },
     "execution_count": 62,
     "metadata": {},
     "output_type": "execute_result"
    }
   ],
   "source": [
    "U"
   ]
  },
  {
   "cell_type": "code",
   "execution_count": 63,
   "metadata": {},
   "outputs": [
    {
     "data": {
      "text/plain": [
       "tensor([4.6609, 3.2999, 3.0105, 2.4919, 1.7198, 0.7839])"
      ]
     },
     "execution_count": 63,
     "metadata": {},
     "output_type": "execute_result"
    }
   ],
   "source": [
    "S"
   ]
  },
  {
   "cell_type": "code",
   "execution_count": 64,
   "metadata": {},
   "outputs": [
    {
     "data": {
      "text/plain": [
       "tensor([[-0.4090, -0.4954,  0.2110,  0.0881,  0.5208, -0.4510,  0.1322, -0.2071],\n",
       "        [-0.1393, -0.0921, -0.0474,  0.6187, -0.5608, -0.2008, -0.2418, -0.4169],\n",
       "        [ 0.1266,  0.0336, -0.8440, -0.0607,  0.3124, -0.0351, -0.0764, -0.4028],\n",
       "        [ 0.5453, -0.7492,  0.0496, -0.0361, -0.1191,  0.3028,  0.1204, -0.1313],\n",
       "        [ 0.0657,  0.2925,  0.1010,  0.3648,  0.1248,  0.2447,  0.7779, -0.2936],\n",
       "        [-0.1420, -0.2198, -0.3669,  0.5430,  0.1091,  0.1422,  0.0823,  0.6806]])"
      ]
     },
     "execution_count": 64,
     "metadata": {},
     "output_type": "execute_result"
    }
   ],
   "source": [
    "Vh"
   ]
  },
  {
   "cell_type": "markdown",
   "metadata": {},
   "source": [
    "mod = nn.ModuleList([l, l1])"
   ]
  },
  {
   "cell_type": "code",
   "execution_count": 77,
   "metadata": {},
   "outputs": [],
   "source": [
    "r_reduced = 5"
   ]
  },
  {
   "cell_type": "code",
   "execution_count": 78,
   "metadata": {},
   "outputs": [
    {
     "data": {
      "text/plain": [
       "tensor([[ 0.3772, -0.1971, -0.3839,  0.5362,  0.6157],\n",
       "        [ 0.0130,  0.8339,  0.0938,  0.1324,  0.2549],\n",
       "        [ 0.2335, -0.0198,  0.8538,  0.3815,  0.0205],\n",
       "        [ 0.8916,  0.0392, -0.0583, -0.2818, -0.3057],\n",
       "        [ 0.0877,  0.4444, -0.1233, -0.3199,  0.1993],\n",
       "        [ 0.0227, -0.2575,  0.3103, -0.6063,  0.6500]])"
      ]
     },
     "execution_count": 78,
     "metadata": {},
     "output_type": "execute_result"
    }
   ],
   "source": [
    "U_reduced = U.T[:r_reduced].T\n",
    "U_reduced"
   ]
  },
  {
   "cell_type": "code",
   "execution_count": 79,
   "metadata": {},
   "outputs": [
    {
     "data": {
      "text/plain": [
       "tensor([4.6609, 3.2999, 3.0105, 2.4919, 1.7198])"
      ]
     },
     "execution_count": 79,
     "metadata": {},
     "output_type": "execute_result"
    }
   ],
   "source": [
    "S_reduced = S[:r_reduced]\n",
    "S_reduced"
   ]
  },
  {
   "cell_type": "code",
   "execution_count": 80,
   "metadata": {},
   "outputs": [
    {
     "data": {
      "text/plain": [
       "tensor([2.1589, 1.8166, 1.7351, 1.5786, 1.3114])"
      ]
     },
     "execution_count": 80,
     "metadata": {},
     "output_type": "execute_result"
    }
   ],
   "source": [
    "torch.sqrt(S_reduced)"
   ]
  },
  {
   "cell_type": "code",
   "execution_count": null,
   "metadata": {},
   "outputs": [],
   "source": []
  }
 ],
 "metadata": {
  "kernelspec": {
   "display_name": "Python 3 (ipykernel)",
   "language": "python",
   "name": "python3"
  },
  "language_info": {
   "codemirror_mode": {
    "name": "ipython",
    "version": 3
   },
   "file_extension": ".py",
   "mimetype": "text/x-python",
   "name": "python",
   "nbconvert_exporter": "python",
   "pygments_lexer": "ipython3",
   "version": "3.10.9"
  }
 },
 "nbformat": 4,
 "nbformat_minor": 2
}
